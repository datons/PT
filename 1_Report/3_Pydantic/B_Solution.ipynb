{
 "cells": [
  {
   "attachments": {},
   "cell_type": "markdown",
   "metadata": {},
   "source": [
    "# Customize output format in prompt"
   ]
  },
  {
   "cell_type": "code",
   "execution_count": 9,
   "metadata": {},
   "outputs": [],
   "source": [
    "import sys\n",
    "sys.path.append('../../modules')"
   ]
  },
  {
   "attachments": {},
   "cell_type": "markdown",
   "metadata": {},
   "source": [
    "## Load model"
   ]
  },
  {
   "cell_type": "code",
   "execution_count": 1,
   "metadata": {},
   "outputs": [],
   "source": [
    "from langchain_openai import ChatOpenAI\n",
    "\n",
    "model = ChatOpenAI(model=\"gpt-3.5-turbo-0125\")"
   ]
  },
  {
   "attachments": {},
   "cell_type": "markdown",
   "metadata": {},
   "source": [
    "## Load prompt"
   ]
  },
  {
   "cell_type": "code",
   "execution_count": 2,
   "metadata": {},
   "outputs": [
    {
     "data": {
      "text/plain": [
       "PromptTemplate(input_variables=['TABLA'], template='La siguiente TABLA representa el retorno acumulado anual de activos financieros.\\n\\nTABLA:\\n\\n{TABLA}\\n\\nPor favor, analize y explique el por qué de los valores más significativos, tanto positivos como negativos, en base a noticias.\\n\\nProporcione el enlace a las noticias que respaldan su análisis.')"
      ]
     },
     "execution_count": 2,
     "metadata": {},
     "output_type": "execute_result"
    }
   ],
   "source": [
    "from langchain_core.prompts import load_prompt\n",
    "\n",
    "path = '../prompts/ES.json'\n",
    "prompt = load_prompt(path)\n",
    "prompt"
   ]
  },
  {
   "attachments": {},
   "cell_type": "markdown",
   "metadata": {},
   "source": [
    "## Custom Output Parser"
   ]
  },
  {
   "attachments": {},
   "cell_type": "markdown",
   "metadata": {},
   "source": [
    "### Create Pydantic model"
   ]
  },
  {
   "cell_type": "code",
   "execution_count": 3,
   "metadata": {},
   "outputs": [],
   "source": [
    "from langchain_core.pydantic_v1 import BaseModel, Field\n",
    "\n",
    "class News(BaseModel):\n",
    "    stock: str = Field(description=\"stock symbol\")\n",
    "    date: str = Field(description=\"date of the news\")\n",
    "    value: float = Field(description=\"significant acumulated return value of the stock\")\n",
    "    title: str = Field(description=\"title of the news\")\n",
    "    url: str = Field(description=\"url of the news\")\n",
    "    source: str = Field(description=\"source of the news\")\n",
    "    explanation: str = Field(description=\"explanation of the news relevance to the stock\")"
   ]
  },
  {
   "attachments": {},
   "cell_type": "markdown",
   "metadata": {},
   "source": [
    "### Associate Pydantic model with parser"
   ]
  },
  {
   "cell_type": "code",
   "execution_count": 4,
   "metadata": {},
   "outputs": [],
   "source": [
    "from langchain_core.output_parsers import PydanticOutputParser\n",
    "\n",
    "parser = PydanticOutputParser(pydantic_object=News)"
   ]
  },
  {
   "attachments": {},
   "cell_type": "markdown",
   "metadata": {},
   "source": [
    "### Add parser to prompt"
   ]
  },
  {
   "cell_type": "code",
   "execution_count": 5,
   "metadata": {},
   "outputs": [
    {
     "data": {
      "text/plain": [
       "'La siguiente TABLA representa el retorno acumulado anual de activos financieros.\\n\\nTABLA:\\n\\n{TABLA}\\n\\nPor favor, analize y explique el por qué de los valores más significativos, tanto positivos como negativos, en base a noticias.\\n\\nProporcione el enlace a las noticias que respaldan su análisis.\\n\\n{format_instructions}\\n'"
      ]
     },
     "execution_count": 5,
     "metadata": {},
     "output_type": "execute_result"
    }
   ],
   "source": [
    "prompt.template = prompt.template + '\\n\\n{format_instructions}\\n'\n",
    "prompt.template "
   ]
  },
  {
   "cell_type": "code",
   "execution_count": 6,
   "metadata": {},
   "outputs": [
    {
     "data": {
      "text/plain": [
       "PromptTemplate(input_variables=['TABLA'], partial_variables={'format_instructions': 'The output should be formatted as a JSON instance that conforms to the JSON schema below.\\n\\nAs an example, for the schema {\"properties\": {\"foo\": {\"title\": \"Foo\", \"description\": \"a list of strings\", \"type\": \"array\", \"items\": {\"type\": \"string\"}}}, \"required\": [\"foo\"]}\\nthe object {\"foo\": [\"bar\", \"baz\"]} is a well-formatted instance of the schema. The object {\"properties\": {\"foo\": [\"bar\", \"baz\"]}} is not well-formatted.\\n\\nHere is the output schema:\\n```\\n{\"properties\": {\"stock\": {\"title\": \"Stock\", \"description\": \"stock symbol\", \"type\": \"string\"}, \"date\": {\"title\": \"Date\", \"description\": \"date of the news\", \"type\": \"string\"}, \"value\": {\"title\": \"Value\", \"description\": \"significant acumulated return value of the stock\", \"type\": \"number\"}, \"title\": {\"title\": \"Title\", \"description\": \"title of the news\", \"type\": \"string\"}, \"url\": {\"title\": \"Url\", \"description\": \"url of the news\", \"type\": \"string\"}, \"source\": {\"title\": \"Source\", \"description\": \"source of the news\", \"type\": \"string\"}, \"explanation\": {\"title\": \"Explanation\", \"description\": \"explanation of the news relevance to the stock\", \"type\": \"string\"}}, \"required\": [\"stock\", \"date\", \"value\", \"title\", \"url\", \"source\", \"explanation\"]}\\n```'}, template='La siguiente TABLA representa el retorno acumulado anual de activos financieros.\\n\\nTABLA:\\n\\n{TABLA}\\n\\nPor favor, analize y explique el por qué de los valores más significativos, tanto positivos como negativos, en base a noticias.\\n\\nProporcione el enlace a las noticias que respaldan su análisis.\\n\\n{format_instructions}\\n')"
      ]
     },
     "execution_count": 6,
     "metadata": {},
     "output_type": "execute_result"
    }
   ],
   "source": [
    "prompt.partial_variables.update({\"format_instructions\": parser.get_format_instructions()})\n",
    "prompt"
   ]
  },
  {
   "attachments": {},
   "cell_type": "markdown",
   "metadata": {},
   "source": [
    "## Chain"
   ]
  },
  {
   "attachments": {},
   "cell_type": "markdown",
   "metadata": {},
   "source": [
    "### Define chain"
   ]
  },
  {
   "cell_type": "code",
   "execution_count": 7,
   "metadata": {},
   "outputs": [],
   "source": [
    "chain = prompt | model | parser"
   ]
  },
  {
   "attachments": {},
   "cell_type": "markdown",
   "metadata": {},
   "source": [
    "### Preprocess input data"
   ]
  },
  {
   "cell_type": "code",
   "execution_count": 10,
   "metadata": {},
   "outputs": [],
   "source": [
    "import utils"
   ]
  },
  {
   "cell_type": "code",
   "execution_count": 11,
   "metadata": {},
   "outputs": [
    {
     "name": "stderr",
     "output_type": "stream",
     "text": [
      "[*********************100%%**********************]  5 of 5 completed\n",
      "/Users/sota/Dropbox/2 Business/1 Datons/2 Areas/Courses/3 Catalogue/50 PT/1 Materials/1_Report/3_PyDantic/../../modules/utils.py:13: FutureWarning: The default fill_method='ffill' in DataFrameGroupBy.pct_change is deprecated and will be removed in a future version. Either fill in any non-leading NA values prior to calling pct_change or specify 'fill_method=None' to not fill NA values.\n",
      "  .groupby(df.index.year).pct_change().add(1)\n"
     ]
    }
   ],
   "source": [
    "df = utils.calculate_yearly_returns(\n",
    "    stocks=['AAPL', 'MSFT', 'AMZN', 'GOOGL', 'TSLA'],\n",
    ")"
   ]
  },
  {
   "attachments": {},
   "cell_type": "markdown",
   "metadata": {},
   "source": [
    "### Invoke chain"
   ]
  },
  {
   "cell_type": "code",
   "execution_count": 12,
   "metadata": {},
   "outputs": [],
   "source": [
    "output = chain.invoke({\"TABLA\": df})"
   ]
  },
  {
   "cell_type": "code",
   "execution_count": 13,
   "metadata": {},
   "outputs": [
    {
     "data": {
      "text/plain": [
       "{'stock': 'TSLA',\n",
       " 'date': '2013-12-31',\n",
       " 'value': 325.424311,\n",
       " 'title': \"Tesla's Record Deliveries\",\n",
       " 'url': 'https://www.cnbc.com/2014/01/14/tesla-deliveries-top-6900-in-q4.html',\n",
       " 'source': 'CNBC',\n",
       " 'explanation': \"Tesla reported record deliveries for Q4 2013, exceeding market expectations. This positive news led to a significant increase in the stock's acumulated return for the year.\"}"
      ]
     },
     "execution_count": 13,
     "metadata": {},
     "output_type": "execute_result"
    }
   ],
   "source": [
    "output.dict()"
   ]
  }
 ],
 "metadata": {
  "kernelspec": {
   "display_name": "nlp",
   "language": "python",
   "name": "python3"
  },
  "language_info": {
   "codemirror_mode": {
    "name": "ipython",
    "version": 3
   },
   "file_extension": ".py",
   "mimetype": "text/x-python",
   "name": "python",
   "nbconvert_exporter": "python",
   "pygments_lexer": "ipython3",
   "version": "3.12.0"
  },
  "orig_nbformat": 4
 },
 "nbformat": 4,
 "nbformat_minor": 2
}

{
 "cells": [
  {
   "attachments": {},
   "cell_type": "markdown",
   "metadata": {},
   "source": [
    "# Pydantic to output multiple observations"
   ]
  },
  {
   "cell_type": "code",
   "execution_count": 1,
   "metadata": {},
   "outputs": [],
   "source": [
    "import sys\n",
    "sys.path.append('../../modules')"
   ]
  },
  {
   "attachments": {},
   "cell_type": "markdown",
   "metadata": {},
   "source": [
    "## Load model"
   ]
  },
  {
   "cell_type": "code",
   "execution_count": 2,
   "metadata": {},
   "outputs": [],
   "source": [
    "from langchain_openai import ChatOpenAI\n",
    "\n",
    "model = ChatOpenAI(model=\"gpt-3.5-turbo-0125\")"
   ]
  },
  {
   "attachments": {},
   "cell_type": "markdown",
   "metadata": {},
   "source": [
    "## Load prompt"
   ]
  },
  {
   "cell_type": "code",
   "execution_count": 3,
   "metadata": {},
   "outputs": [
    {
     "data": {
      "text/plain": [
       "PromptTemplate(input_variables=['TABLA'], template='La siguiente TABLA representa el retorno acumulado anual de activos financieros.\\n\\nTABLA:\\n\\n{TABLA}\\n\\nPor favor, analize y explique el por qué de los valores más significativos, tanto positivos como negativos, en base a noticias.\\n\\nProporcione el enlace a las noticias que respaldan su análisis.')"
      ]
     },
     "execution_count": 3,
     "metadata": {},
     "output_type": "execute_result"
    }
   ],
   "source": [
    "from langchain_core.prompts import load_prompt\n",
    "\n",
    "path = '../prompts/ES.json'\n",
    "prompt = load_prompt(path)\n",
    "prompt"
   ]
  },
  {
   "attachments": {},
   "cell_type": "markdown",
   "metadata": {},
   "source": [
    "## Custom Output Parser\n",
    "\n",
    "Create a module `models.py` to store the Pydantic models (see [module](../../modules/models.py))."
   ]
  },
  {
   "attachments": {},
   "cell_type": "markdown",
   "metadata": {},
   "source": [
    "### Import models"
   ]
  },
  {
   "cell_type": "code",
   "execution_count": 4,
   "metadata": {},
   "outputs": [],
   "source": [
    "import models"
   ]
  },
  {
   "attachments": {},
   "cell_type": "markdown",
   "metadata": {},
   "source": [
    "### Associate Pydantic model with parser"
   ]
  },
  {
   "cell_type": "code",
   "execution_count": 5,
   "metadata": {},
   "outputs": [],
   "source": [
    "from langchain_core.output_parsers import PydanticOutputParser\n",
    "parser = PydanticOutputParser(pydantic_object=models.NewsSet)"
   ]
  },
  {
   "attachments": {},
   "cell_type": "markdown",
   "metadata": {},
   "source": [
    "### Add parser to prompt"
   ]
  },
  {
   "cell_type": "code",
   "execution_count": 6,
   "metadata": {},
   "outputs": [
    {
     "data": {
      "text/plain": [
       "'La siguiente TABLA representa el retorno acumulado anual de activos financieros.\\n\\nTABLA:\\n\\n{TABLA}\\n\\nPor favor, analize y explique el por qué de los valores más significativos, tanto positivos como negativos, en base a noticias.\\n\\nProporcione el enlace a las noticias que respaldan su análisis.\\n\\n{format_instructions}\\n'"
      ]
     },
     "execution_count": 6,
     "metadata": {},
     "output_type": "execute_result"
    }
   ],
   "source": [
    "prompt.template = prompt.template + '\\n\\n{format_instructions}\\n'\n",
    "prompt.template "
   ]
  },
  {
   "cell_type": "code",
   "execution_count": 7,
   "metadata": {},
   "outputs": [
    {
     "data": {
      "text/plain": [
       "PromptTemplate(input_variables=['TABLA'], partial_variables={'format_instructions': 'The output should be formatted as a JSON instance that conforms to the JSON schema below.\\n\\nAs an example, for the schema {\"properties\": {\"foo\": {\"title\": \"Foo\", \"description\": \"a list of strings\", \"type\": \"array\", \"items\": {\"type\": \"string\"}}}, \"required\": [\"foo\"]}\\nthe object {\"foo\": [\"bar\", \"baz\"]} is a well-formatted instance of the schema. The object {\"properties\": {\"foo\": [\"bar\", \"baz\"]}} is not well-formatted.\\n\\nHere is the output schema:\\n```\\n{\"properties\": {\"news\": {\"title\": \"News\", \"description\": \"list of news\", \"type\": \"array\", \"items\": {\"$ref\": \"#/definitions/News\"}}}, \"required\": [\"news\"], \"definitions\": {\"News\": {\"title\": \"News\", \"type\": \"object\", \"properties\": {\"stock\": {\"title\": \"Stock\", \"description\": \"stock symbol\", \"type\": \"string\"}, \"date\": {\"title\": \"Date\", \"description\": \"date of the news\", \"type\": \"string\"}, \"value\": {\"title\": \"Value\", \"description\": \"significant acumulated return value of the stock\", \"type\": \"number\"}, \"title\": {\"title\": \"Title\", \"description\": \"title of the news\", \"type\": \"string\"}, \"url\": {\"title\": \"Url\", \"description\": \"url of the news\", \"type\": \"string\"}, \"source\": {\"title\": \"Source\", \"description\": \"source of the news\", \"type\": \"string\"}, \"explanation\": {\"title\": \"Explanation\", \"description\": \"explanation of the news relevance to the stock\", \"type\": \"string\"}}, \"required\": [\"stock\", \"date\", \"value\", \"title\", \"url\", \"source\", \"explanation\"]}}}\\n```'}, template='La siguiente TABLA representa el retorno acumulado anual de activos financieros.\\n\\nTABLA:\\n\\n{TABLA}\\n\\nPor favor, analize y explique el por qué de los valores más significativos, tanto positivos como negativos, en base a noticias.\\n\\nProporcione el enlace a las noticias que respaldan su análisis.\\n\\n{format_instructions}\\n')"
      ]
     },
     "execution_count": 7,
     "metadata": {},
     "output_type": "execute_result"
    }
   ],
   "source": [
    "prompt.partial_variables.update({\"format_instructions\": parser.get_format_instructions()})\n",
    "prompt"
   ]
  },
  {
   "attachments": {},
   "cell_type": "markdown",
   "metadata": {},
   "source": [
    "## Chain"
   ]
  },
  {
   "attachments": {},
   "cell_type": "markdown",
   "metadata": {},
   "source": [
    "### Define chain"
   ]
  },
  {
   "cell_type": "code",
   "execution_count": 8,
   "metadata": {},
   "outputs": [],
   "source": [
    "chain = prompt | model | parser"
   ]
  },
  {
   "attachments": {},
   "cell_type": "markdown",
   "metadata": {},
   "source": [
    "### Preprocess input data"
   ]
  },
  {
   "cell_type": "code",
   "execution_count": 9,
   "metadata": {},
   "outputs": [],
   "source": [
    "import utils"
   ]
  },
  {
   "cell_type": "code",
   "execution_count": 10,
   "metadata": {},
   "outputs": [
    {
     "name": "stderr",
     "output_type": "stream",
     "text": [
      "[*********************100%%**********************]  5 of 5 completed\n",
      "/Users/sota/Dropbox/2 Business/1 Datons/2 Areas/Courses/3 Catalogue/50 PT/1 Materials/1_Report/4_Pydantic Set/../../modules/utils.py:13: FutureWarning: The default fill_method='ffill' in DataFrameGroupBy.pct_change is deprecated and will be removed in a future version. Either fill in any non-leading NA values prior to calling pct_change or specify 'fill_method=None' to not fill NA values.\n",
      "  .groupby(df.index.year).pct_change().add(1)\n"
     ]
    }
   ],
   "source": [
    "df = utils.calculate_yearly_returns(\n",
    "    stocks=['AAPL', 'MSFT', 'AMZN', 'GOOGL', 'TSLA'],\n",
    ")"
   ]
  },
  {
   "attachments": {},
   "cell_type": "markdown",
   "metadata": {},
   "source": [
    "### Invoke chain"
   ]
  },
  {
   "cell_type": "code",
   "execution_count": 11,
   "metadata": {},
   "outputs": [],
   "source": [
    "output = chain.invoke({\"TABLA\": df})"
   ]
  },
  {
   "attachments": {},
   "cell_type": "markdown",
   "metadata": {},
   "source": [
    "## Preprocess output"
   ]
  },
  {
   "attachments": {},
   "cell_type": "markdown",
   "metadata": {},
   "source": [
    "### Format to dictionary"
   ]
  },
  {
   "cell_type": "code",
   "execution_count": 12,
   "metadata": {},
   "outputs": [
    {
     "data": {
      "text/plain": [
       "[{'stock': 'TSLA',\n",
       "  'date': '2013-12-31',\n",
       "  'value': 325.424311,\n",
       "  'title': 'Tesla Model S named Car of the Year',\n",
       "  'url': 'https://www.cnbc.com/2013/12/03/tesla-model-s-named-car-of-the-year.html',\n",
       "  'source': 'CNBC',\n",
       "  'explanation': \"The significant increase in Tesla's return can be attributed to the positive reception and award received by the Tesla Model S, which boosted investor confidence in the company's future success.\"},\n",
       " {'stock': 'AAPL',\n",
       "  'date': '2019-12-31',\n",
       "  'value': 88.742469,\n",
       "  'title': 'Apple reports record-breaking iPhone sales',\n",
       "  'url': 'https://www.apple.com/newsroom/2019/01/apple-reports-first-quarter-results/',\n",
       "  'source': 'Apple Newsroom',\n",
       "  'explanation': \"Apple's impressive return in 2019 was driven by the company's announcement of record-breaking iPhone sales, indicating strong consumer demand for their products.\"},\n",
       " {'stock': 'AMZN',\n",
       "  'date': '2015-12-31',\n",
       "  'value': 119.074933,\n",
       "  'title': 'Amazon Prime Day sales surpass expectations',\n",
       "  'url': 'https://www.cnbc.com/2015/07/16/amazon-prime-day-sales-surpass-expectations.html',\n",
       "  'source': 'CNBC',\n",
       "  'explanation': \"The sharp increase in Amazon's return can be linked to the success of Prime Day sales, which exceeded expectations and showcased the company's ability to drive revenue through special events.\"},\n",
       " {'stock': 'MSFT',\n",
       "  'date': '2019-12-31',\n",
       "  'value': 58.259237,\n",
       "  'title': 'Microsoft Azure revenue grows by 62%',\n",
       "  'url': 'https://news.microsoft.com/2019/10/23/microsoft-cloud-growth-drives-first-quarter-results/',\n",
       "  'source': 'Microsoft News',\n",
       "  'explanation': \"Microsoft's substantial return in 2019 can be attributed to the impressive growth of Azure revenue, indicating the company's strength in the cloud computing market.\"},\n",
       " {'stock': 'GOOGL',\n",
       "  'date': '2013-12-31',\n",
       "  'value': 54.954727,\n",
       "  'title': 'Google acquires Nest Labs',\n",
       "  'url': 'https://www.forbes.com/sites/connieguglielmo/2014/01/13/google-to-buy-nest-labs-for-3-2b-in-cash/',\n",
       "  'source': 'Forbes',\n",
       "  'explanation': \"The significant increase in Google's return can be linked to the acquisition of Nest Labs, showcasing the company's expansion into the smart home market and potential for future growth.\"},\n",
       " {'stock': 'TSLA',\n",
       "  'date': '2020-12-31',\n",
       "  'value': 707.395544,\n",
       "  'title': 'Tesla joins S&P 500 index',\n",
       "  'url': 'https://www.reuters.com/article/us-tesla-stocks/tesla-joins-sp-500-in-stock-market-milestone-idUSKBN28W1D1',\n",
       "  'source': 'Reuters',\n",
       "  'explanation': \"Tesla's exceptional return in 2020 can be attributed to the company's inclusion in the S&P 500 index, a significant milestone that attracted more investors and drove up the stock price.\"}]"
      ]
     },
     "execution_count": 12,
     "metadata": {},
     "output_type": "execute_result"
    }
   ],
   "source": [
    "data = output.dict()\n",
    "news = data['news']\n",
    "news"
   ]
  },
  {
   "attachments": {},
   "cell_type": "markdown",
   "metadata": {},
   "source": [
    "### Transform into DataFrame"
   ]
  },
  {
   "cell_type": "code",
   "execution_count": 13,
   "metadata": {},
   "outputs": [
    {
     "data": {
      "text/html": [
       "<div>\n",
       "<style scoped>\n",
       "    .dataframe tbody tr th:only-of-type {\n",
       "        vertical-align: middle;\n",
       "    }\n",
       "\n",
       "    .dataframe tbody tr th {\n",
       "        vertical-align: top;\n",
       "    }\n",
       "\n",
       "    .dataframe thead th {\n",
       "        text-align: right;\n",
       "    }\n",
       "</style>\n",
       "<table border=\"1\" class=\"dataframe\">\n",
       "  <thead>\n",
       "    <tr style=\"text-align: right;\">\n",
       "      <th></th>\n",
       "      <th>stock</th>\n",
       "      <th>date</th>\n",
       "      <th>value</th>\n",
       "      <th>title</th>\n",
       "      <th>url</th>\n",
       "      <th>source</th>\n",
       "      <th>explanation</th>\n",
       "    </tr>\n",
       "  </thead>\n",
       "  <tbody>\n",
       "    <tr>\n",
       "      <th>0</th>\n",
       "      <td>TSLA</td>\n",
       "      <td>2013-12-31</td>\n",
       "      <td>325.424311</td>\n",
       "      <td>Tesla Model S named Car of the Year</td>\n",
       "      <td>https://www.cnbc.com/2013/12/03/tesla-model-s-...</td>\n",
       "      <td>CNBC</td>\n",
       "      <td>The significant increase in Tesla's return can...</td>\n",
       "    </tr>\n",
       "    <tr>\n",
       "      <th>1</th>\n",
       "      <td>AAPL</td>\n",
       "      <td>2019-12-31</td>\n",
       "      <td>88.742469</td>\n",
       "      <td>Apple reports record-breaking iPhone sales</td>\n",
       "      <td>https://www.apple.com/newsroom/2019/01/apple-r...</td>\n",
       "      <td>Apple Newsroom</td>\n",
       "      <td>Apple's impressive return in 2019 was driven b...</td>\n",
       "    </tr>\n",
       "    <tr>\n",
       "      <th>2</th>\n",
       "      <td>AMZN</td>\n",
       "      <td>2015-12-31</td>\n",
       "      <td>119.074933</td>\n",
       "      <td>Amazon Prime Day sales surpass expectations</td>\n",
       "      <td>https://www.cnbc.com/2015/07/16/amazon-prime-d...</td>\n",
       "      <td>CNBC</td>\n",
       "      <td>The sharp increase in Amazon's return can be l...</td>\n",
       "    </tr>\n",
       "    <tr>\n",
       "      <th>3</th>\n",
       "      <td>MSFT</td>\n",
       "      <td>2019-12-31</td>\n",
       "      <td>58.259237</td>\n",
       "      <td>Microsoft Azure revenue grows by 62%</td>\n",
       "      <td>https://news.microsoft.com/2019/10/23/microsof...</td>\n",
       "      <td>Microsoft News</td>\n",
       "      <td>Microsoft's substantial return in 2019 can be ...</td>\n",
       "    </tr>\n",
       "    <tr>\n",
       "      <th>4</th>\n",
       "      <td>GOOGL</td>\n",
       "      <td>2013-12-31</td>\n",
       "      <td>54.954727</td>\n",
       "      <td>Google acquires Nest Labs</td>\n",
       "      <td>https://www.forbes.com/sites/connieguglielmo/2...</td>\n",
       "      <td>Forbes</td>\n",
       "      <td>The significant increase in Google's return ca...</td>\n",
       "    </tr>\n",
       "    <tr>\n",
       "      <th>5</th>\n",
       "      <td>TSLA</td>\n",
       "      <td>2020-12-31</td>\n",
       "      <td>707.395544</td>\n",
       "      <td>Tesla joins S&amp;P 500 index</td>\n",
       "      <td>https://www.reuters.com/article/us-tesla-stock...</td>\n",
       "      <td>Reuters</td>\n",
       "      <td>Tesla's exceptional return in 2020 can be attr...</td>\n",
       "    </tr>\n",
       "  </tbody>\n",
       "</table>\n",
       "</div>"
      ],
      "text/plain": [
       "   stock        date       value                                        title  \\\n",
       "0   TSLA  2013-12-31  325.424311          Tesla Model S named Car of the Year   \n",
       "1   AAPL  2019-12-31   88.742469   Apple reports record-breaking iPhone sales   \n",
       "2   AMZN  2015-12-31  119.074933  Amazon Prime Day sales surpass expectations   \n",
       "3   MSFT  2019-12-31   58.259237         Microsoft Azure revenue grows by 62%   \n",
       "4  GOOGL  2013-12-31   54.954727                    Google acquires Nest Labs   \n",
       "5   TSLA  2020-12-31  707.395544                    Tesla joins S&P 500 index   \n",
       "\n",
       "                                                 url          source  \\\n",
       "0  https://www.cnbc.com/2013/12/03/tesla-model-s-...            CNBC   \n",
       "1  https://www.apple.com/newsroom/2019/01/apple-r...  Apple Newsroom   \n",
       "2  https://www.cnbc.com/2015/07/16/amazon-prime-d...            CNBC   \n",
       "3  https://news.microsoft.com/2019/10/23/microsof...  Microsoft News   \n",
       "4  https://www.forbes.com/sites/connieguglielmo/2...          Forbes   \n",
       "5  https://www.reuters.com/article/us-tesla-stock...         Reuters   \n",
       "\n",
       "                                         explanation  \n",
       "0  The significant increase in Tesla's return can...  \n",
       "1  Apple's impressive return in 2019 was driven b...  \n",
       "2  The sharp increase in Amazon's return can be l...  \n",
       "3  Microsoft's substantial return in 2019 can be ...  \n",
       "4  The significant increase in Google's return ca...  \n",
       "5  Tesla's exceptional return in 2020 can be attr...  "
      ]
     },
     "execution_count": 13,
     "metadata": {},
     "output_type": "execute_result"
    }
   ],
   "source": [
    "import pandas as pd\n",
    "\n",
    "df = pd.DataFrame(news)\n",
    "df"
   ]
  },
  {
   "attachments": {},
   "cell_type": "markdown",
   "metadata": {},
   "source": [
    "### Export to Excel"
   ]
  },
  {
   "cell_type": "code",
   "execution_count": 16,
   "metadata": {},
   "outputs": [],
   "source": [
    "df.to_excel('reports/news.xlsx', index=False)"
   ]
  }
 ],
 "metadata": {
  "kernelspec": {
   "display_name": "nlp",
   "language": "python",
   "name": "python3"
  },
  "language_info": {
   "codemirror_mode": {
    "name": "ipython",
    "version": 3
   },
   "file_extension": ".py",
   "mimetype": "text/x-python",
   "name": "python",
   "nbconvert_exporter": "python",
   "pygments_lexer": "ipython3",
   "version": "3.12.0"
  },
  "orig_nbformat": 4
 },
 "nbformat": 4,
 "nbformat_minor": 2
}
